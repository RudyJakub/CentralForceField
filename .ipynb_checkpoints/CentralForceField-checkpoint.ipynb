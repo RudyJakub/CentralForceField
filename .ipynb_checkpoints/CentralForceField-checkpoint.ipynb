{
 "cells": [
  {
   "cell_type": "code",
   "execution_count": 181,
   "id": "7575b840",
   "metadata": {},
   "outputs": [],
   "source": [
    "import numpy as np\n",
    "import matplotlib.pyplot as plt"
   ]
  },
  {
   "cell_type": "code",
   "execution_count": 182,
   "id": "ad199b62",
   "metadata": {},
   "outputs": [],
   "source": [
    "class Vec2:\n",
    "    def __init__(self, x, y):\n",
    "        self.x = x\n",
    "        self.y = y\n",
    "    \n",
    "    def print(self):\n",
    "        print(f\"X: {self.x}, Y: {self.y}\")\n",
    "    \n",
    "    @staticmethod\n",
    "    def distanceBetween(v1, v2) -> float:\n",
    "        return ((v2.x - v1.x) ** 2 + (v2.y - v1.y) ** 2) ** (1/2)\n",
    "    \n",
    "    \n",
    "class PhysicalObject():\n",
    "    trajectory = {}\n",
    "    # position, initial velocity\n",
    "    def __init__(self, id: str, pos: Vec2, v: Vec2, inertia=1):\n",
    "        self.initialpos = pos\n",
    "        self.id = id\n",
    "        self.trajectory = []\n",
    "        self.pos = pos\n",
    "        self.velocity = v\n",
    "        self.inertia = inertia\n",
    "    \n",
    "    def applyForce(self, pos: Vec2, mag: float, dt: float):\n",
    "        r = Vec2.distanceBetween(self.pos, pos)\n",
    "        Ax = -1 * mag * (self.pos.x - pos.x) / r ** 3\n",
    "        Ay = -1 * mag * (self.pos.y - pos.y) / r ** 3     \n",
    "        # update velocity\n",
    "        self.velocity.x = self.velocity.x + dt * Ax\n",
    "        self.velocity.y = self.velocity.y + dt * Ay    \n",
    "        # update pos. after dt time\n",
    "        self.pos.x = self.pos.x + self.velocity.x * dt\n",
    "        self.pos.y = self.pos.y + self.velocity.y * dt\n",
    "        \n",
    "        self.trajectory.append(Vec2(self.pos.x, self.pos.y))\n",
    "        \n",
    "class CentralForceField:\n",
    "    # magnitude (const), initial position (const)\n",
    "    def __init__(self, id: str, mag: float, pos: Vec2):\n",
    "        self.id = id\n",
    "        self.pos = pos\n",
    "        self.mag = mag\n",
    "\n",
    "class SpaceTime:\n",
    "    # \"center of space\", dt\n",
    "    def __init__(self, pos: Vec2, dt=0.05):\n",
    "        self.pos = pos\n",
    "        self.forceFields = []\n",
    "        self.physicalObjects = []\n",
    "        self.dt = dt \n",
    "    \n",
    "    def addCentralForceField(self, obj: CentralForceField):\n",
    "        self.forceFields.append(obj)\n",
    "        \n",
    "    def addPhysicalObject(self, obj: PhysicalObject):\n",
    "        self.physicalObjects.append(obj)\n",
    "        \n",
    "    def update(self):\n",
    "        for forceField in self.forceFields:\n",
    "            for physicalObject in self.physicalObjects:\n",
    "                physicalObject.applyForce(forceField.pos, forceField.mag, self.dt)\n",
    "                # physicalObject.pos.print()\n",
    "            \n",
    "    \n",
    "    def start(self):\n",
    "        duration = 80\n",
    "        for i in np.linspace(0, self.dt, duration):\n",
    "            self.update()"
   ]
  },
  {
   "cell_type": "code",
   "execution_count": 183,
   "id": "f84cdf62",
   "metadata": {},
   "outputs": [],
   "source": [
    "objX = 0.5\n",
    "objY = 0.0\n",
    "\n",
    "s = SpaceTime(Vec2(0, 0))\n",
    "s.addCentralForceField(CentralForceField(\"field1\", 1, Vec2(0,0)))\n",
    "\n",
    "s.addPhysicalObject(PhysicalObject(\"obj1\", Vec2(objX, objY), Vec2(0, 1.630), 1))\n",
    "s.start()\n",
    "\n",
    "x = []\n",
    "y = []\n",
    "\n",
    "for pos in s.physicalObjects[0].trajectory:\n",
    "    x.append(pos.x)\n",
    "    y.append(pos.y)\n",
    "    "
   ]
  },
  {
   "cell_type": "code",
   "execution_count": 184,
   "id": "4db80e99",
   "metadata": {
    "scrolled": true
   },
   "outputs": [
    {
     "data": {
      "text/plain": [
       "[(-1.0, 1.0)]"
      ]
     },
     "execution_count": 184,
     "metadata": {},
     "output_type": "execute_result"
    },
    {
     "data": {
      "image/png": "[encoded data removed]",
      "text/plain": [
       "<Figure size 600x400 with 1 Axes>"
      ]
     },
     "metadata": {},
     "output_type": "display_data"
    }
   ],
   "source": [
    "\n",
    "\n",
    "fig, ax = plt.subplots(1, figsize=(6, 4))\n",
    "ax.scatter(x, y, s=0.5)\n",
    "ax.scatter([objX], [objY], s=50)\n",
    "ax.scatter([0], [0], s=50)\n",
    "ax.spines['left'].set_position('zero')\n",
    "ax.spines['right'].set_color('none')\n",
    "ax.spines['bottom'].set_position('zero')\n",
    "ax.spines['top'].set_color('none')\n",
    "\n",
    "ax.set(xlim=(-1, 1))\n",
    "ax.set(ylim=(-1, 1))"
   ]
  },
  {
   "cell_type": "code",
   "execution_count": null,
   "id": "6e03bb71",
   "metadata": {},
   "outputs": [],
   "source": []
  }
 ],
 "metadata": {
  "kernelspec": {
   "display_name": "Python 3 (ipykernel)",
   "language": "python",
   "name": "python3"
  },
  "language_info": {
   "codemirror_mode": {
    "name": "ipython",
    "version": 3
   },
   "file_extension": ".py",
   "mimetype": "text/x-python",
   "name": "python",
   "nbconvert_exporter": "python",
   "pygments_lexer": "ipython3",
   "version": "3.10.4"
  }
 },
 "nbformat": 4,
 "nbformat_minor": 5
}
